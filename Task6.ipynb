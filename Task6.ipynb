{
  "nbformat": 4,
  "nbformat_minor": 0,
  "metadata": {
    "colab": {
      "name": "Cv_lab6.ipynb",
      "provenance": [],
      "collapsed_sections": [],
      "toc_visible": true
    },
    "kernelspec": {
      "name": "python3",
      "display_name": "Python 3"
    }
  },
  "cells": [
    {
      "cell_type": "code",
      "metadata": {
        "id": "nBGf6xh4Hg2K"
      },
      "source": [
        "from IPython.display import display, Javascript\n",
        "from google.colab.output import eval_js\n",
        "from base64 import b64decode, b64encode\n",
        "\n",
        "import numpy as np\n",
        "from PIL import Image\n",
        "\n",
        "import io\n",
        "import cv2 # OpenCV library"
      ],
      "execution_count": 2,
      "outputs": []
    },
    {
      "cell_type": "markdown",
      "metadata": {
        "id": "eKopa3b4a1G-"
      },
      "source": [
        "## Javascript code to capture the webcam feed"
      ]
    },
    {
      "cell_type": "code",
      "metadata": {
        "id": "XS0UfPTMIAjH"
      },
      "source": [
        "from google.colab.output import eval_js\n",
        "\n",
        "def VideoCapture():\n",
        "  js = Javascript('''\n",
        "    async function create(){\n",
        "      div = document.createElement('div');\n",
        "      document.body.appendChild(div);\n",
        "\n",
        "      video = document.createElement('video');\n",
        "      video.setAttribute('playsinline', '');\n",
        "\n",
        "      div.appendChild(video);\n",
        "      stream = await navigator.mediaDevices.getUserMedia({video: {facingMode: \"environment\"}});\n",
        "      video.srcObject = stream;\n",
        "\n",
        "      await video.play();\n",
        "\n",
        "      canvas =  document.createElement('canvas');\n",
        "      canvas.width = video.videoWidth;\n",
        "      canvas.height = video.videoHeight;\n",
        "      canvas.getContext('2d').drawImage(video, 0, 0);\n",
        "\n",
        "      div_out = document.createElement('div');\n",
        "      document.body.appendChild(div_out);\n",
        "      img = document.createElement('img');\n",
        "      div_out.appendChild(img);\n",
        "    }\n",
        "\n",
        "    async function capture(){\n",
        "        return await new Promise(function(resolve, reject){\n",
        "            pendingResolve = resolve;\n",
        "            canvas.getContext('2d').drawImage(video, 0, 0);\n",
        "            result = canvas.toDataURL('image/jpeg', 0.20);\n",
        "\n",
        "            pendingResolve(result);\n",
        "        })\n",
        "    }\n",
        "\n",
        "    function showimg(imgb64){\n",
        "        img.src = \"data:image/jpg;base64,\" + imgb64;\n",
        "    }\n",
        "\n",
        "  ''')\n",
        "  display(js)"
      ],
      "execution_count": 3,
      "outputs": []
    },
    {
      "cell_type": "markdown",
      "metadata": {
        "id": "0gqkvhAQa8Y4"
      },
      "source": [
        "## Conversions between data formats"
      ]
    },
    {
      "cell_type": "code",
      "metadata": {
        "id": "xRSMs81vI1kW"
      },
      "source": [
        "def b64_to_bytes(byte):\n",
        "  jpeg = b64decode(byte.split(',')[1])\n",
        "  im = Image.open(io.BytesIO(jpeg))\n",
        "  return np.array(im)\n",
        "\n",
        "def bytes_to_b64(image):\n",
        "  image = Image.fromarray(image)\n",
        "  buffer = io.BytesIO()\n",
        "  image.save(buffer, 'jpeg')\n",
        "  buffer.seek(0)\n",
        "  x = b64encode(buffer.read()).decode('utf-8')\n",
        "  return x"
      ],
      "execution_count": 4,
      "outputs": []
    },
    {
      "cell_type": "markdown",
      "metadata": {
        "id": "dHKzhrNzbDk4"
      },
      "source": [
        "## Loading Cascades and mounting drive"
      ]
    },
    {
      "cell_type": "code",
      "metadata": {
        "id": "pvm1YoLZKNow"
      },
      "source": [
        "# load the file in your colab env\n",
        "face_cascades = cv2.CascadeClassifier(\"haarcascade_frontalface_default.xml\")"
      ],
      "execution_count": 5,
      "outputs": []
    },
    {
      "cell_type": "markdown",
      "metadata": {
        "id": "bNMHi20dfb5-"
      },
      "source": [
        "Note: mounting the drive allows for easier writing of the images below - that being said, the PATH variable needs to be updated to fit your own drive structure if you want to save images with my code."
      ]
    },
    {
      "cell_type": "code",
      "metadata": {
        "colab": {
          "base_uri": "https://localhost:8080/"
        },
        "id": "JBFV6uRuRPuP",
        "outputId": "43253d6f-3409-4548-f44d-ac3353a2c037"
      },
      "source": [
        "from google.colab import drive\n",
        "drive.mount('/content/drive')"
      ],
      "execution_count": 20,
      "outputs": [
        {
          "output_type": "stream",
          "text": [
            "Mounted at /content/drive\n"
          ],
          "name": "stdout"
        }
      ]
    },
    {
      "cell_type": "markdown",
      "metadata": {
        "id": "adCkAvvLbKdC"
      },
      "source": [
        "## Utilitary functions"
      ]
    },
    {
      "cell_type": "code",
      "metadata": {
        "id": "dlMJmlqH-v_U"
      },
      "source": [
        "def scale_contour(pts, scale_x, scale_y):\n",
        "  M = cv2.moments(pts)\n",
        "\n",
        "  if M['m00'] == 0:\n",
        "    return pts\n",
        "    \n",
        "  cx = int(M['m10']/M['m00'])\n",
        "  cy = int(M['m01']/M['m00'])\n",
        "\n",
        "  cnt_norm = pts - [cx, cy]\n",
        "  cnt_scaled = cnt_norm * np.array([scale_x, scale_y]) \n",
        "  cnt_scaled = cnt_scaled + [cx, cy]\n",
        "  cnt_scaled = cnt_scaled.astype(np.int32)\n",
        "\n",
        "  return cnt_scaled"
      ],
      "execution_count": 6,
      "outputs": []
    },
    {
      "cell_type": "code",
      "metadata": {
        "id": "VNrJAlfJ_wXa"
      },
      "source": [
        "def crop_hand(pts, im_width, im_height):\n",
        "  x_tl, y_tl = max(0, min(pts[:, 0])), max(0, min(pts[:, 1]))\n",
        "  x_br, y_br = min(im_width, max(pts[:, 0])), min(im_height, max(pts[:, 1]))\n",
        "\n",
        "  return (x_tl, y_tl), (x_br, y_br)"
      ],
      "execution_count": 7,
      "outputs": []
    },
    {
      "cell_type": "code",
      "metadata": {
        "id": "pbb0ctnDfJbx"
      },
      "source": [
        "def detect_faces(img, cascades):\n",
        "  gray = cv2.cvtColor(img, cv2.COLOR_BGR2GRAY)\n",
        "  faces = cascades.detectMultiScale(gray, 1.3, 4)\n",
        "  return faces"
      ],
      "execution_count": 8,
      "outputs": []
    },
    {
      "cell_type": "markdown",
      "metadata": {
        "id": "bkgE1FIwbaLT"
      },
      "source": [
        "# Selection of the initial face for the histogram and later CamShift usage"
      ]
    },
    {
      "cell_type": "code",
      "metadata": {
        "id": "x4w--IHvNOD3"
      },
      "source": [
        "VideoCapture()\n",
        "eval_js('create()')\n",
        "\n",
        "while True:\n",
        "  response = input(\"Type anything when ready!:\")\n",
        "  byte = eval_js('capture()')\n",
        "  im = b64_to_bytes(byte)\n",
        "  im_copy = im.copy()\n",
        "  faces = detect_faces(im, face_cascades)\n",
        "\n",
        "  if len(faces) == 1:\n",
        "    face = faces[0]\n",
        "    cv2.rectangle(im_copy,(face[0],face[1]),(face[0] + face[2], face[1] + face[3]),(0,255,0),2)\n",
        "  else:\n",
        "    continue\n",
        "\n",
        "  eval_js('showimg(\"{}\")'.format(bytes_to_b64(im_copy)))\n",
        "  response = input(\"Use this bounding box? [y or n]:\")\n",
        "  if response == 'y':\n",
        "    frame = im[face[1]:face[1]+face[3], face[0]:face[0]+face[2]]\n",
        "    eval_js('showimg(\"{}\")'.format(bytes_to_b64(frame)))\n",
        "    tracking_window_face = face\n",
        "    break"
      ],
      "execution_count": null,
      "outputs": []
    },
    {
      "cell_type": "markdown",
      "metadata": {
        "id": "VI3Z4vD8bsy9"
      },
      "source": [
        "### Computing and cleaning of the face histogram"
      ]
    },
    {
      "cell_type": "code",
      "metadata": {
        "id": "Etay8KX_NUC8"
      },
      "source": [
        "# Transform the frame into HSV\n",
        "frame_hsv = cv2.cvtColor(frame, cv2.COLOR_BGR2HSV)\n",
        "# Create an inRange mask for pixels. Limit the saturation in [64., 200.] and brightness in [32., 200.]\n",
        "mask = cv2.inRange(frame_hsv, np.array([0., 64., 32.]), np.array([180., 200., 200.]))\n",
        "# Compute the histogram of the frame (use only the HUE channel). See `https://bit.ly/3pdVUEd`\n",
        "# Take into account only pixels which are not too bright and not too dark (use the previous mask)\n",
        "# Use 16 bins and speicfy the range of the hue ([0, 180])\n",
        "frame_hist = cv2.calcHist([frame_hsv], [0], mask, [16], [0, 180])\n",
        "# Normalize the histogram between 0 (lowest intensity) and 255 (highest intensity) (use MinMax normalization `cv.NORM_MINMAX`) using the method `https://bit.ly/3jMGhCj`\n",
        "frame_hist = cv2.normalize(frame_hist, frame_hist, 0, 255, cv2.NORM_MINMAX)\n",
        "# Reashape the histogram into a 1-D array (use `.reshape(-1)`)\n",
        "frame_hist = frame_hist.reshape(-1)"
      ],
      "execution_count": 14,
      "outputs": []
    },
    {
      "cell_type": "markdown",
      "metadata": {
        "id": "Rg4PcZenV9IE"
      },
      "source": [
        "# Saving Hand Images"
      ]
    },
    {
      "cell_type": "markdown",
      "metadata": {
        "id": "6avNBcQUfKV_"
      },
      "source": [
        "Note: Obviously, the path below is specific to my gdrive.\n",
        "\n",
        "Note 2: the imwrite will not work if the directory in which we try to save doesn't exist."
      ]
    },
    {
      "cell_type": "code",
      "metadata": {
        "id": "jGTYnrqvLwYV"
      },
      "source": [
        "letter = 'C'\n",
        "PATH = '/content/drive/MyDrive/Colab Notebooks/Computer Vision/dataset/'+ letter + '/'"
      ],
      "execution_count": 38,
      "outputs": []
    },
    {
      "cell_type": "code",
      "metadata": {
        "id": "gz07r4AEVcMk"
      },
      "source": [
        "VideoCapture()\n",
        "eval_js('create()')\n",
        "\n",
        "# These mean: Stop the mean-shift algorithm iff we effectuated 10 iterations or the computed mean does not change by more than 1pt ~ 1.3px in both directions\n",
        "term_crit = ( cv2.TERM_CRITERIA_EPS | cv2.TERM_CRITERIA_COUNT, 10, 1 )\n",
        "\n",
        "byte = eval_js('capture()')\n",
        "im = b64_to_bytes(byte)\n",
        "im_width, im_height = im.shape[1], im.shape[0]\n",
        "\n",
        "tracking_window_hand = (0, 0, im_width, im_height)\n",
        "cpt = -1\n",
        "\n",
        "while True and cpt<105:\n",
        "  byte = eval_js('capture()') # Take a capture\n",
        "  im = b64_to_bytes(byte)\n",
        "\n",
        "  # Convert the capture in HSV\n",
        "  hsv = cv2.cvtColor(im, cv2.COLOR_BGR2HSV)\n",
        "  # Compute an inRange mask as before with the frame\n",
        "  mask = cv2.inRange(hsv, np.array([0., 64., 32.]), np.array([180., 200., 200.]))\n",
        "  # Back project the frame histogram into the hsv image. Use only channel 0 (Hue), range of [0,180] and scale of 1\n",
        "  prob = cv2.calcBackProject([hsv], [0], frame_hist, [0, 180], scale=1)\n",
        "  # Bitwise and the back projection and the previously computed mask in order to remove very bright or very dark pixels (you can use `&` of python or cv2.bitwise_and in opencv)\n",
        "  prob = prob & mask\n",
        "\n",
        "  bbox, tracking_window_face = cv2.CamShift(prob, tracking_window_face, term_crit)\n",
        "\n",
        "  pts = cv2.boxPoints(bbox).astype(np.int)\n",
        "  scaled_pts = scale_contour(pts, 1.5, 1.3)\n",
        "  cv2.fillPoly(prob, [scaled_pts], 0)\n",
        "  #Do not draw the polylines to avoid them being saved in the dataset\n",
        "  #cv2.polylines(im, [pts], True, (255, 255 , 255), 2)\n",
        "  #cv2.polylines(im, [scaled_pts], True, (255, 255 , 0), 2)\n",
        "\n",
        "  bbox, tracking_window_hand = cv2.CamShift(prob, tracking_window_hand, term_crit)\n",
        "\n",
        "  pts = cv2.boxPoints(bbox).astype(np.int)\n",
        "  pts = scale_contour(pts, 1.8, 1.5)\n",
        "  cropped_hand_bbox = crop_hand(pts, im_width, im_height)\n",
        "  cv2.rectangle(im, cropped_hand_bbox[0], cropped_hand_bbox[1], (255, 0, 0), 2)\n",
        "  \n",
        "  cropped_hand = cv2.cvtColor(im[cropped_hand_bbox[0][1]:cropped_hand_bbox[1][1], cropped_hand_bbox[0][0]:cropped_hand_bbox[1][0]], cv2.COLOR_BGR2GRAY)\n",
        "  cropped_hand = cv2.resize(cropped_hand, (224, 224))\n",
        "  cpt += 1\n",
        "  if cpt>5: #the first few frames we don't have the hand properly detected yet\n",
        "    cv2.imwrite(PATH + letter + str(cpt) + '.jpg', cropped_hand)\n",
        "  eval_js('showimg(\"{}\")'.format(bytes_to_b64(im)))"
      ],
      "execution_count": null,
      "outputs": []
    }
  ]
}